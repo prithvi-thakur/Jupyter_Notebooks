{
 "cells": [
  {
   "cell_type": "markdown",
   "metadata": {},
   "source": [
    "<h1><center>EARTH 468: LAB07</center></h1>  \n",
    "\n",
    "<h6>Submitted by: Prithvi Thakur</h6>\n",
    "<h6>Email: prith@umich.edu</h6>"
   ]
  },
  {
   "cell_type": "code",
   "execution_count": 2,
   "metadata": {
    "collapsed": true
   },
   "outputs": [],
   "source": [
    "# import modules\n",
    "import numpy as np\n",
    "import pandas as pd\n",
    "import matplotlib.pyplot as plt\n",
    "import random\n",
    "import scipy.stats as stats\n",
    "from scipy import io\n",
    "import seaborn as sns\n",
    "from IPython.core.display import display, HTML\n",
    "#sns.set(color_codes=True)\n",
    "plt.rcParams[\"patch.force_edgecolor\"] = True\n",
    "%matplotlib inline"
   ]
  },
  {
   "cell_type": "code",
   "execution_count": 3,
   "metadata": {},
   "outputs": [
    {
     "data": {
      "text/html": [
       "\n",
       "<script>\n",
       "    var code_show=true; //true -> hide code at first\n",
       "\n",
       "    function code_toggle() {\n",
       "        $('div.prompt').hide(); // always hide prompt\n",
       "\n",
       "        if (code_show){\n",
       "            $('div.input').hide();\n",
       "        } else {\n",
       "            $('div.input').show();\n",
       "        }\n",
       "        code_show = !code_show\n",
       "    }\n",
       "    $( document ).ready(code_toggle);\n",
       "</script>\n",
       "<a href=\"javascript:code_toggle()\">[Toggle Code]</a>\n"
      ],
      "text/plain": [
       "<IPython.core.display.HTML object>"
      ]
     },
     "execution_count": 3,
     "metadata": {},
     "output_type": "execute_result"
    }
   ],
   "source": [
    "HTML('''\n",
    "<script>\n",
    "    var code_show=true; //true -> hide code at first\n",
    "\n",
    "    function code_toggle() {\n",
    "        $('div.prompt').hide(); // always hide prompt\n",
    "\n",
    "        if (code_show){\n",
    "            $('div.input').hide();\n",
    "        } else {\n",
    "            $('div.input').show();\n",
    "        }\n",
    "        code_show = !code_show\n",
    "    }\n",
    "    $( document ).ready(code_toggle);\n",
    "</script>\n",
    "<a href=\"javascript:code_toggle()\">[Toggle Code]</a>\n",
    "''')"
   ]
  },
  {
   "cell_type": "code",
   "execution_count": 3,
   "metadata": {
    "collapsed": true
   },
   "outputs": [],
   "source": [
    "df = pd.read_csv(\"Lab07_FlintPb_VirginiaTech.csv\")\n",
    "Pb_0 = np.array(df[\"Pb Bottle 1 (ppb) - First Draw\"])\n",
    "Pb_45 = np.array(df[\"Pb Bottle 2 (ppb) - 45 secs flushing\"])\n",
    "Pb_2 = np.array(df[\"Pb Bottle 3 (ppb) - 2 mins flushing\"])"
   ]
  },
  {
   "cell_type": "markdown",
   "metadata": {},
   "source": [
    "<h3>(a)</h3>"
   ]
  },
  {
   "cell_type": "code",
   "execution_count": 6,
   "metadata": {},
   "outputs": [
    {
     "name": "stdout",
     "output_type": "stream",
     "text": [
      "Fraction of house with Pb_45 > Pb_0 :0.18 \n",
      "Fraction of house with Pb_2 > Pb_0 :0.09 \n",
      "Fraction of house with Pb_2 > Pb_45 :0.18 \n"
     ]
    }
   ],
   "source": [
    "frac1 = len(np.array(np.where(Pb_45>Pb_0))[0,:])\n",
    "frac2 = len(np.array(np.where(Pb_2>Pb_0))[0,:])\n",
    "frac3 = len(np.array(np.where(Pb_2>Pb_45))[0,:])\n",
    "total = len(df)\n",
    "\n",
    "print(\"Fraction of house with Pb_45 > Pb_0 :%.2f \" %(frac1/total))\n",
    "print(\"Fraction of house with Pb_2 > Pb_0 :%.2f \" %(frac2/total))\n",
    "print(\"Fraction of house with Pb_2 > Pb_45 :%.2f \" %(frac3/total))"
   ]
  },
  {
   "cell_type": "markdown",
   "metadata": {},
   "source": [
    "<h3>(b)</h3>"
   ]
  },
  {
   "cell_type": "code",
   "execution_count": 7,
   "metadata": {},
   "outputs": [
    {
     "name": "stdout",
     "output_type": "stream",
     "text": [
      "45 sec flush:\n",
      "\tSlope     = 0.85\n",
      "\tIntercept = -0.31\n",
      "2 min flush:\n",
      "\tSlope     = 0.74\n",
      "\tIntercept = -0.46\n"
     ]
    }
   ],
   "source": [
    "lg_Pb_0 = np.log10(Pb_0)\n",
    "lg_Pb_45 = np.log10(Pb_45)\n",
    "lg_Pb_2 = np.log10(Pb_2)\n",
    "\n",
    "# Design matrix\n",
    "G = np.ones((len(df), 2)) \n",
    "G[:,0] = lg_Pb_0\n",
    "\n",
    "G_sq = (np.dot(np.transpose(G), G))\n",
    "\n",
    "G_g = np.dot(np.linalg.inv(G_sq),np.transpose(G))\n",
    "\n",
    "# Regression line\n",
    "m_45 = np.dot(G_g, lg_Pb_45)\n",
    "m_2 = np.dot(G_g, lg_Pb_2)\n",
    "\n",
    "h = np.linspace(-1, 3, num = 100)\n",
    "y_45 = h*m_45[0] + m_45[1]\n",
    "y_2 = h*m_2[0] + m_2[1]\n",
    "\n",
    "print(\"45 sec flush:\\n\\tSlope     = %.2f\\n\\tIntercept = %.2f\" %(m_45[0], m_45[1]))\n",
    "print(\"2 min flush:\\n\\tSlope     = %.2f\\n\\tIntercept = %.2f\" %(m_2[0], m_2[1]))"
   ]
  },
  {
   "cell_type": "code",
   "execution_count": 8,
   "metadata": {},
   "outputs": [
    {
     "data": {
      "image/png": "[encoded data removed]",
      "text/plain": [
       "<matplotlib.figure.Figure at 0x1180587b8>"
      ]
     },
     "metadata": {},
     "output_type": "display_data"
    }
   ],
   "source": [
    "# Plot\n",
    "fig = plt.figure(figsize=(15,5))\n",
    "ax = fig.add_subplot(121)\n",
    "\n",
    "ax.scatter(lg_Pb_0, lg_Pb_45, label='45 sec flush')\n",
    "ax.plot(h, y_45, 'r', label='best fit line')\n",
    "ax.set_xlabel('Log10 First draw Pb')\n",
    "ax.set_ylabel('Log10 45 sec Flushed Pb')\n",
    "plt.legend()\n",
    "\n",
    "ax2 = fig.add_subplot(122)\n",
    "\n",
    "ax2.scatter(lg_Pb_0, lg_Pb_2, label='2 min flush')\n",
    "ax2.plot(h, y_2, 'r', label='best fit line')\n",
    "ax2.set_xlabel('Log10 First draw Pb')\n",
    "ax2.set_ylabel('Log10 2 min Flushed Pb')\n",
    "\n",
    "plt.legend()\n",
    "plt.show()"
   ]
  },
  {
   "cell_type": "markdown",
   "metadata": {},
   "source": [
    "<h3>(c)</h3>"
   ]
  },
  {
   "cell_type": "code",
   "execution_count": 9,
   "metadata": {},
   "outputs": [
    {
     "name": "stdout",
     "output_type": "stream",
     "text": [
      "The R_squared for 45 sec Flushed Pb is 0.48\n",
      "The R_squared for 2 min Flushed Pb is 0.42\n"
     ]
    }
   ],
   "source": [
    "r_45 = stats.linregress(lg_Pb_0, lg_Pb_45)[2]\n",
    "r_2 = stats.linregress(lg_Pb_0, lg_Pb_2)[2]\n",
    "print(\"The R_squared for 45 sec Flushed Pb is %.2f\" %r_45**2)\n",
    "print(\"The R_squared for 2 min Flushed Pb is %.2f\" %r_2**2)"
   ]
  },
  {
   "cell_type": "markdown",
   "metadata": {},
   "source": [
    "This information tells us how well the estimated linear model explains the variability of the data around its mean and gives us an expression for how close is the data to the fit regression line."
   ]
  },
  {
   "cell_type": "code",
   "execution_count": 10,
   "metadata": {
    "collapsed": true
   },
   "outputs": [],
   "source": [
    "# Linear regression function\n",
    "def reg(x, y):\n",
    "    G = np.ones((len(x), 2)) \n",
    "    G[:,0] = x\n",
    "\n",
    "    G_sq = (np.dot(np.transpose(G), G))\n",
    "\n",
    "    G_g = np.dot(np.linalg.inv(G_sq),np.transpose(G))\n",
    "    \n",
    "    m = np.dot(G_g, y)\n",
    "    \n",
    "    return m"
   ]
  },
  {
   "cell_type": "markdown",
   "metadata": {},
   "source": [
    "<h3>(d)</h3>"
   ]
  },
  {
   "cell_type": "code",
   "execution_count": 14,
   "metadata": {
    "collapsed": true
   },
   "outputs": [],
   "source": [
    "# Bootstrap resampling\n",
    "N = len(df)\n",
    "N_sub = np.round(0.6*N).astype(int) # resample size = 60% of data\n",
    "N_steps = 10000\n",
    "\n",
    "mk45 = np.zeros((N_steps,2))\n",
    "mk2 = np.zeros((N_steps,2))\n",
    "\n",
    "for i in range(N_steps):\n",
    "    # shuffle the indices\n",
    "    idx = np.floor(np.random.rand(N_sub)*N).astype(int)\n",
    "    \n",
    "    re_lg_Pb_0 = lg_Pb_0[idx]\n",
    "    re_lg_Pb_45 = lg_Pb_45[idx]\n",
    "    re_lg_Pb_2 = lg_Pb_2[idx]\n",
    "    \n",
    "    mk45[i,:] = reg(re_lg_Pb_0, re_lg_Pb_45)\n",
    "    mk2[i,:] = reg(re_lg_Pb_0, re_lg_Pb_2)"
   ]
  },
  {
   "cell_type": "code",
   "execution_count": 15,
   "metadata": {},
   "outputs": [
    {
     "data": {
      "image/png": "[encoded data removed]",
      "text/plain": [
       "<matplotlib.figure.Figure at 0x11b42db38>"
      ]
     },
     "metadata": {},
     "output_type": "display_data"
    },
    {
     "name": "stdout",
     "output_type": "stream",
     "text": [
      "45 sec flush:\n",
      "\tMean = 0.85\n",
      "\tStd  = 0.07\n",
      "2 min flush:\n",
      "\tMean = 0.74\n",
      "\tStd  = 0.08\n"
     ]
    }
   ],
   "source": [
    "# Plot histogram of slopes\n",
    "fig = plt.figure(figsize=(15,5))\n",
    "ax = fig.add_subplot(121)\n",
    "\n",
    "ax.hist(mk45[:,0], bins=50)\n",
    "ax.axvline(x = np.mean(mk45[:,0]), c='r', label='mean')\n",
    "ax.set_xlabel('Slope of bootstrapped regression line')\n",
    "ax.set_ylabel('Frequency')\n",
    "ax.set_title('45 sec flush')\n",
    "plt.legend()\n",
    "\n",
    "\n",
    "ax2 = fig.add_subplot(122)\n",
    "\n",
    "ax2.hist(mk2[:,0], bins=50)\n",
    "ax2.axvline(x = np.mean(mk2[:,0]), c='r', label='mean')\n",
    "ax2.set_xlabel('Slope of bootstrapped regression line')\n",
    "ax2.set_ylabel('Frequency')\n",
    "ax2.set_title('2 min flush')\n",
    "plt.legend()\n",
    "plt.show()\n",
    "\n",
    "\n",
    "\n",
    "print(\"45 sec flush:\\n\\tMean = %.2f\\n\\tStd  = %.2f\" %(np.mean(mk45[:,0]), np.std(mk45[:,0])))\n",
    "print(\"2 min flush:\\n\\tMean = %.2f\\n\\tStd  = %.2f\" %(np.mean(mk2[:,0]), np.std(mk2[:,0])))"
   ]
  },
  {
   "cell_type": "markdown",
   "metadata": {},
   "source": [
    "The number of resamples is chosen to be 60% of the data size = 163. \n",
    "\n",
    "The mean is the same as the slope of part (b)."
   ]
  },
  {
   "cell_type": "markdown",
   "metadata": {},
   "source": [
    "<h3>(e)</h3>"
   ]
  },
  {
   "cell_type": "code",
   "execution_count": 25,
   "metadata": {},
   "outputs": [
    {
     "name": "stdout",
     "output_type": "stream",
     "text": [
      "The percentage of mk within 1 std:\n",
      "\n",
      "\tfor 45 sec flush  67.31\n",
      "\n",
      "\tfor 2 min flush  67.83\n"
     ]
    }
   ],
   "source": [
    "# Percentage within 1 standard deviation\n",
    "slope45 = mk45[:,0]\n",
    "slope2 = mk2[:,0]\n",
    "\n",
    "std_45 = [x for x in slope45 if x>=(np.mean(slope45) - np.std(slope45)) and x<=(np.mean(slope45) + np.std(slope45))]\n",
    "std_2 = [x for x in slope2 if x>=(np.mean(slope2) - np.std(slope2)) and x<=(np.mean(slope2) + np.std(slope2))]\n",
    "\n",
    "print(\"The percentage of mk within 1 std:\")\n",
    "print(\"\\n\\tfor 45 sec flush \", (100*len(std_45)/len(slope45)))\n",
    "print(\"\\n\\tfor 2 min flush \", (100*len(std_2)/len(slope2)))"
   ]
  },
  {
   "cell_type": "markdown",
   "metadata": {},
   "source": [
    "We see that both of the histograms are close to gaussian based on the values within 1 standard deviation."
   ]
  },
  {
   "cell_type": "markdown",
   "metadata": {},
   "source": [
    "<h3>(f)</h3>"
   ]
  },
  {
   "cell_type": "code",
   "execution_count": 30,
   "metadata": {},
   "outputs": [
    {
     "name": "stdout",
     "output_type": "stream",
     "text": [
      "The probability that mx is larger than 1:\n",
      "\n",
      "\tfor 45 sec flush  0.0155\n",
      "\n",
      "\tfor 2 min flush  0.0002\n"
     ]
    }
   ],
   "source": [
    "prob45 = [x for x in slope45 if x>1]\n",
    "prob2 = [x for x in slope2 if x>1]\n",
    "\n",
    "print(\"The probability that mx is larger than 1:\")\n",
    "print(\"\\n\\tfor 45 sec flush \", (len(prob45)/len(slope45)))\n",
    "print(\"\\n\\tfor 2 min flush \", (len(prob2)/len(slope2)))"
   ]
  }
 ],
 "metadata": {
  "kernelspec": {
   "display_name": "Python 3",
   "language": "python",
   "name": "python3"
  },
  "language_info": {
   "codemirror_mode": {
    "name": "ipython",
    "version": 3
   },
   "file_extension": ".py",
   "mimetype": "text/x-python",
   "name": "python",
   "nbconvert_exporter": "python",
   "pygments_lexer": "ipython3",
   "version": "3.6.2"
  }
 },
 "nbformat": 4,
 "nbformat_minor": 2
}
