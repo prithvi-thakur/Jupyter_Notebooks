{
 "cells": [
  {
   "cell_type": "markdown",
   "metadata": {},
   "source": [
    "<h1><center>EARTH 468: HW02</center></h1>  \n",
    "\n",
    "<h6>Submitted by: Prithvi Thakur</h6>\n",
    "<h6>Email: prith@umich.edu</h6>"
   ]
  },
  {
   "cell_type": "code",
   "execution_count": 1,
   "metadata": {
    "collapsed": true
   },
   "outputs": [],
   "source": [
    "# import modules\n",
    "import numpy as np\n",
    "import pandas as pd\n",
    "import matplotlib.pyplot as plt\n",
    "import random\n",
    "import scipy.stats as stats\n",
    "from scipy import io\n",
    "import seaborn as sns\n",
    "from IPython.core.display import display, HTML\n",
    "from IPython.core.interactiveshell import InteractiveShell\n",
    "InteractiveShell.ast_node_interactivity = \"all\"\n",
    "#sns.set(color_codes=True)\n",
    "plt.rcParams[\"patch.force_edgecolor\"] = True\n",
    "%matplotlib inline"
   ]
  },
  {
   "cell_type": "code",
   "execution_count": 2,
   "metadata": {},
   "outputs": [
    {
     "data": {
      "text/html": [
       "\n",
       "<script>\n",
       "    var code_show=true; //true -> hide code at first\n",
       "\n",
       "    function code_toggle() {\n",
       "        $('div.prompt').hide(); // always hide prompt\n",
       "\n",
       "        if (code_show){\n",
       "            $('div.input').hide();\n",
       "        } else {\n",
       "            $('div.input').show();\n",
       "        }\n",
       "        code_show = !code_show\n",
       "    }\n",
       "    $( document ).ready(code_toggle);\n",
       "</script>\n",
       "<a href=\"javascript:code_toggle()\">[Toggle Code]</a>\n"
      ],
      "text/plain": [
       "<IPython.core.display.HTML object>"
      ]
     },
     "execution_count": 2,
     "metadata": {},
     "output_type": "execute_result"
    }
   ],
   "source": [
    "HTML('''\n",
    "<script>\n",
    "    var code_show=true; //true -> hide code at first\n",
    "\n",
    "    function code_toggle() {\n",
    "        $('div.prompt').hide(); // always hide prompt\n",
    "\n",
    "        if (code_show){\n",
    "            $('div.input').hide();\n",
    "        } else {\n",
    "            $('div.input').show();\n",
    "        }\n",
    "        code_show = !code_show\n",
    "    }\n",
    "    $( document ).ready(code_toggle);\n",
    "</script>\n",
    "<a href=\"javascript:code_toggle()\">[Toggle Code]</a>\n",
    "''')"
   ]
  },
  {
   "cell_type": "markdown",
   "metadata": {},
   "source": [
    "<h3>Problem 1 </h3>"
   ]
  },
  {
   "cell_type": "markdown",
   "metadata": {
    "collapsed": true
   },
   "source": [
    "$$\n",
    "\\begin{aligned}\n",
    "system\\ A: &u = u_0 + tv\\\\\n",
    "system\\ B: &u = u_0 + at^2 + tv\\\\\n",
    "system\\ C: &u = u_0 + at^2 + tv + A_2cos(t\\pi) + A_1sin(t\\pi)\\\\\n",
    "system\\ D: &u = u_0 + at^2 + tv + A_2cos(t\\pi) + S_2cos(2t\\pi) + A_1sin(t\\pi) + S_1sin(2t\\pi)\\\\\n",
    "\\end{aligned}\n",
    "$$  \n",
    "  \n",
    "20 data points. Error on all data = $1.0$  \n",
    "  \n",
    "The chi-squared values are:\n",
    "$$\n",
    "\\begin{aligned}\n",
    "system\\ A:\\ &\\chi^{2}_{obs} = 56.53\\\\\n",
    "system\\ B:\\ &\\chi^{2}_{obs} = 23.32\\\\\n",
    "system\\ C:\\ &\\chi^{2}_{obs} = 9.99\\\\\n",
    "system\\ D:\\ &\\chi^{2}_{obs} = 0.28\\\\\n",
    "\\end{aligned}\n",
    "$$ "
   ]
  },
  {
   "cell_type": "markdown",
   "metadata": {},
   "source": [
    "<h3>(a) Model parameters and degrees of freedom</h3>"
   ]
  },
  {
   "cell_type": "markdown",
   "metadata": {
    "collapsed": true
   },
   "source": [
    "The degrees of freedom is the difference number of observations and the number of parameters to be estimated:\n",
    "  \n",
    "  \n",
    "  System  |       Model Parameters         | Degrees of freedom | $\\chi^2$ values\n",
    ":--------:|:---------------------------:   |:------------------:| :------:\n",
    " System A | $u_0, v$                       | $20 - 2 = 18$      | 56.53\n",
    " System B | $u_0, a, v$                    | $20 - 3 = 17$      | 23.32\n",
    " System C | $u_0, a, v, A_1, A_2$          | $20 - 5 = 15$      | 9.99\n",
    " System D | $u_0, a, v, A_1, A_2, S_1, S_2$| $20 - 7 = 13$      | 0.28\n"
   ]
  },
  {
   "cell_type": "markdown",
   "metadata": {},
   "source": [
    "<h3>(b) Reduced $\\chi^2$</h3>"
   ]
  },
  {
   "cell_type": "markdown",
   "metadata": {
    "collapsed": true
   },
   "source": [
    "|  System  | Reduced $\\chi^2$                \n",
    "|:--------:|:---------------------------:\n",
    "| System A | 56.53 / 18 = 3.14\n",
    "| System B | 23.32 / 17 = 1.37                \n",
    "| System C | 9.99 / 15  =  0.67     \n",
    "| System D | 0.28 / 13  = 0.02\n"
   ]
  },
  {
   "cell_type": "markdown",
   "metadata": {},
   "source": [
    "<h3>(c) Model fit</h3>"
   ]
  },
  {
   "cell_type": "markdown",
   "metadata": {
    "collapsed": true
   },
   "source": [
    "System A: Since the reduced $\\chi^2$ is much greater than 1, the model described is underfitting the data, which means that the error variance has been underestimated.  \n",
    "  \n",
    "System B: The reduced $\\chi^2$ is closer to 1, implying that the model almost correctly captures the observations and the error variance has been slightly underestimated.  \n",
    "  \n",
    "System C: The reduced $\\chi^2$ is close to 1, but less than 1, which implies that this model is overfitting the data, therefore, the error variance has been slightly overestimated.  \n",
    "  \n",
    "System D: The reduced $\\chi^2$ is much less than 1, which implies that this model is vastly overfitting the data, therefore, the error variance has been overestimated or the model is improperly fitting the noise.  \n",
    "  \n",
    "Therefore, system C has the best estimate of errors, and the ideal model lies somewhere between system B and system C."
   ]
  },
  {
   "cell_type": "markdown",
   "metadata": {},
   "source": [
    "<h3>(d)</h3>"
   ]
  },
  {
   "cell_type": "code",
   "execution_count": 28,
   "metadata": {},
   "outputs": [
    {
     "data": {
      "text/plain": [
       "[<matplotlib.lines.Line2D at 0x1155d0f28>]"
      ]
     },
     "execution_count": 28,
     "metadata": {},
     "output_type": "execute_result"
    },
    {
     "data": {
      "text/plain": [
       "[<matplotlib.lines.Line2D at 0x1155d0dd8>]"
      ]
     },
     "execution_count": 28,
     "metadata": {},
     "output_type": "execute_result"
    },
    {
     "data": {
      "text/plain": [
       "[<matplotlib.lines.Line2D at 0x115631cc0>]"
      ]
     },
     "execution_count": 28,
     "metadata": {},
     "output_type": "execute_result"
    },
    {
     "data": {
      "text/plain": [
       "[<matplotlib.lines.Line2D at 0x115631b70>]"
      ]
     },
     "execution_count": 28,
     "metadata": {},
     "output_type": "execute_result"
    },
    {
     "data": {
      "text/plain": [
       "<matplotlib.text.Text at 0x1156bb550>"
      ]
     },
     "execution_count": 28,
     "metadata": {},
     "output_type": "execute_result"
    },
    {
     "data": {
      "text/plain": [
       "<matplotlib.text.Text at 0x115691240>"
      ]
     },
     "execution_count": 28,
     "metadata": {},
     "output_type": "execute_result"
    },
    {
     "data": {
      "text/plain": [
       "<matplotlib.text.Text at 0x11567db70>"
      ]
     },
     "execution_count": 28,
     "metadata": {},
     "output_type": "execute_result"
    },
    {
     "data": {
      "text/plain": [
       "<matplotlib.legend.Legend at 0x11563cac8>"
      ]
     },
     "execution_count": 28,
     "metadata": {},
     "output_type": "execute_result"
    },
    {
     "data": {
      "image/png": "[encoded data removed]",
      "text/plain": [
       "<matplotlib.figure.Figure at 0x1155d0f98>"
      ]
     },
     "metadata": {},
     "output_type": "display_data"
    },
    {
     "name": "stdout",
     "output_type": "stream",
     "text": [
      "Likelihood of best-fit chi2 for A: 2.68e-06\n",
      "Likelihood of best-fit chi2 for B: 3.08e-02\n",
      "Likelihood of best-fit chi2 for C: 6.28e-02\n",
      "Likelihood of best-fit chi2 for D: 3.04e-08\n",
      "\n",
      "\n",
      "Likelihood of chi2 expected for A: 6.59e-02\n",
      "Likelihood of chi2 expected for B: 6.78e-02\n",
      "Likelihood of chi2 expected for C: 7.20e-02\n",
      "Likelihood of chi2 expected for D: 7.72e-02\n"
     ]
    }
   ],
   "source": [
    "A = 18;\n",
    "B = 17;\n",
    "C = 15;\n",
    "D = 13;\n",
    "\n",
    "chi2_A = 56.53\n",
    "chi2_B = 23.32\n",
    "chi2_C = 9.99\n",
    "chi2_D = 0.28\n",
    "\n",
    "fig, ax = plt.subplots(1,1)\n",
    "\n",
    "x = np.linspace(0, 50, num=100);\n",
    "ax.plot(x,stats.chi2.pdf(x, A), label='A,dof=18');\n",
    "ax.plot(x,stats.chi2.pdf(x, B), label='B,dof=17');\n",
    "ax.plot(x,stats.chi2.pdf(x, C), label='C,dof=15');\n",
    "ax.plot(x,stats.chi2.pdf(x, D), label='D,dof=13');\n",
    "ax.set_title('Chi2 pdf')\n",
    "ax.set_ylabel('Probability density')\n",
    "ax.set_xlabel('Chi2')\n",
    "plt.legend()\n",
    "plt.show()\n",
    "\n",
    "print(\"Likelihood of best-fit chi2 for A: %.2e\" %stats.chi2.pdf(chi2_A, A))\n",
    "print(\"Likelihood of best-fit chi2 for B: %.2e\" %stats.chi2.pdf(chi2_B, B))\n",
    "print(\"Likelihood of best-fit chi2 for C: %.2e\" %stats.chi2.pdf(chi2_C, C))\n",
    "print(\"Likelihood of best-fit chi2 for D: %.2e\" %stats.chi2.pdf(chi2_D, D))\n",
    "\n",
    "print(\"\\n\\nLikelihood of chi2 expected for A: %.2e\" %stats.chi2.pdf(A, A))\n",
    "print(\"Likelihood of chi2 expected for B: %.2e\" %stats.chi2.pdf(B, B))\n",
    "print(\"Likelihood of chi2 expected for C: %.2e\" %stats.chi2.pdf(C, C))\n",
    "print(\"Likelihood of chi2 expected for D: %.2e\" %stats.chi2.pdf(D, D))"
   ]
  },
  {
   "cell_type": "markdown",
   "metadata": {},
   "source": [
    "System C has the maximum likelihood of the best-fit $\\chi^2$, which is in coherence with the conclusion from part C.   \n",
    "  \n",
    "The likelihood of the expected $\\chi^2$ for system B and C are closer to the likelihood of best-fit $\\chi^2$, whereas the likelihood of expected $\\chi^2$ is much higher for systems A and D, which makes sense because they do not capture the data as good as systems B and C."
   ]
  },
  {
   "cell_type": "markdown",
   "metadata": {},
   "source": [
    "<h3>(e)</h3>"
   ]
  },
  {
   "cell_type": "code",
   "execution_count": 16,
   "metadata": {},
   "outputs": [
    {
     "name": "stdout",
     "output_type": "stream",
     "text": [
      "The chi2 cumulative pdf of A is 1.00e+00\n",
      "The chi2 cumulative pdf of B is 8.61e-01\n",
      "The chi2 cumulative pdf of C is 1.80e-01\n",
      "The chi2 cumulative pdf of D is 1.33e-09\n"
     ]
    }
   ],
   "source": [
    "cdf_A = stats.chi2.cdf(chi2_A, 18) \n",
    "cdf_B = stats.chi2.cdf(chi2_B, 17)\n",
    "cdf_C = stats.chi2.cdf(chi2_C, 15)\n",
    "cdf_D = stats.chi2.cdf(chi2_D, 13)\n",
    "\n",
    "print(\"The chi2 cumulative pdf of A is %.2e\" %cdf_A)\n",
    "print(\"The chi2 cumulative pdf of B is %.2e\" %cdf_B)\n",
    "print(\"The chi2 cumulative pdf of C is %.2e\" %cdf_C)\n",
    "print(\"The chi2 cumulative pdf of D is %.2e\" %cdf_D)"
   ]
  },
  {
   "cell_type": "markdown",
   "metadata": {},
   "source": [
    "The cumulative probability distribution function represents the probability that the $\\chi^2$ will take values less than the cdf. Therefore, any measurement of $\\chi^2$ would be always less than the system A, and always greater than the system D. These two extreme cases represent the end member models that explain the given data, in this case, system A represents the data without any error variances, and system D represents the data with every possible error variance."
   ]
  },
  {
   "cell_type": "markdown",
   "metadata": {},
   "source": [
    "<h3>(f)</h3>"
   ]
  },
  {
   "cell_type": "code",
   "execution_count": 27,
   "metadata": {},
   "outputs": [
    {
     "name": "stdout",
     "output_type": "stream",
     "text": [
      "Chi2 per degrees of freedom for system C with error of 0.6  = 1.85\n",
      "Chi2 per degrees of freedom for system C with error of 0.3  = 7.40\n",
      "Chi2 per degrees of freedom for system C with error of 0.15 = 29.60\n",
      "Chi2 per degrees of freedom for system C with error of 0.05 = 266.40\n"
     ]
    }
   ],
   "source": [
    "chi2e = lambda chi2_obs, e: (chi2_obs)/(15*e**2)\n",
    "\n",
    "print(\"Chi2 per degrees of freedom for system C with error of 0.6  = %.2f\" %chi2e(chi2_C, 0.6))\n",
    "print(\"Chi2 per degrees of freedom for system C with error of 0.3  = %.2f\" %chi2e(chi2_C, 0.3))\n",
    "print(\"Chi2 per degrees of freedom for system C with error of 0.15 = %.2f\" %chi2e(chi2_C, 0.15))\n",
    "print(\"Chi2 per degrees of freedom for system C with error of 0.05 = %.2f\" %chi2e(chi2_C, 0.05))"
   ]
  },
  {
   "cell_type": "markdown",
   "metadata": {
    "collapsed": true
   },
   "source": [
    "We see that the system C was initially overfitting the data, but as we systematically decrease the errors, the system begins underfitting the data more and more. This implies that the error is underestimated, and the value of $\\frac{\\chi^2}{\\nu}$ tells us that."
   ]
  }
 ],
 "metadata": {
  "kernelspec": {
   "display_name": "Python 3",
   "language": "python",
   "name": "python3"
  },
  "language_info": {
   "codemirror_mode": {
    "name": "ipython",
    "version": 3
   },
   "file_extension": ".py",
   "mimetype": "text/x-python",
   "name": "python",
   "nbconvert_exporter": "python",
   "pygments_lexer": "ipython3",
   "version": "3.6.2"
  }
 },
 "nbformat": 4,
 "nbformat_minor": 2
}
