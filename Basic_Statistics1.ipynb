{
 "cells": [
  {
   "cell_type": "markdown",
   "metadata": {},
   "source": [
    "<h1><center>EARTH 468: HW01</center></h1>  \n",
    "\n",
    "<h6>Submitted by: Prithvi Thakur</h6>\n",
    "<h6>Email: prith@umich.edu</h6>"
   ]
  },
  {
   "cell_type": "code",
   "execution_count": 1,
   "metadata": {
    "collapsed": true
   },
   "outputs": [],
   "source": [
    "# import modules\n",
    "import numpy as np\n",
    "import pandas as pd\n",
    "import matplotlib.pyplot as plt\n",
    "import random\n",
    "import scipy.stats as stats\n",
    "import seaborn as sns\n",
    "sns.set(color_codes=True)\n",
    "plt.rcParams[\"patch.force_edgecolor\"] = True\n",
    "%matplotlib inline"
   ]
  },
  {
   "cell_type": "markdown",
   "metadata": {},
   "source": [
    "<h3>Problem 1: indri weight campaign</h3>"
   ]
  },
  {
   "cell_type": "code",
   "execution_count": 2,
   "metadata": {
    "collapsed": true
   },
   "outputs": [],
   "source": [
    "# Indri weight array (kg)\n",
    "indri_weight = np.array([8.45, 6.43, 6.73, 6.02, 4.50, 2.39, 6.92\\\n",
    "                   , 3.29, 3.95, 13.22])"
   ]
  },
  {
   "cell_type": "markdown",
   "metadata": {},
   "source": [
    "<h6>(a) Histogram of Indri weights</h6>"
   ]
  },
  {
   "cell_type": "code",
   "execution_count": 3,
   "metadata": {},
   "outputs": [
    {
     "data": {
      "image/png": "[encoded data removed]",
      "text/plain": [
       "<matplotlib.figure.Figure at 0x114bbb240>"
      ]
     },
     "metadata": {},
     "output_type": "display_data"
    }
   ],
   "source": [
    "# Initialize a figure\n",
    "fig = plt.figure(figsize=(7,5))\n",
    "\n",
    "# Initialize subplots\n",
    "ax = fig.add_subplot(111)\n",
    "\n",
    "# Plot Histogram\n",
    "ax.hist(indri_weight, bins = np.arange(1,15,1), align = 'mid', edgecolor = 'black')\n",
    "ax.set_title(\"Indri weight histogram\")\n",
    "ax.set_xlabel(\"Weight of Indri (Bin size = 1 kg)\")\n",
    "ax.set_ylabel(\"Frequency\")\n",
    "ax.set_xticks(np.arange(1,15,1))\n",
    "\n",
    "plt.show()"
   ]
  },
  {
   "cell_type": "markdown",
   "metadata": {},
   "source": [
    "<h6>(b) Mean, sample standard deviation and standard error</h6>"
   ]
  },
  {
   "cell_type": "code",
   "execution_count": 4,
   "metadata": {},
   "outputs": [
    {
     "name": "stdout",
     "output_type": "stream",
     "text": [
      "Mean Indri weight = 6.190\n",
      "Sample standard deviation = 2.935\n",
      "Standard error is = 0.978\n"
     ]
    }
   ],
   "source": [
    "# Mean\n",
    "mu = np.mean(indri_weight)\n",
    "\n",
    "# Standard error\n",
    "sem = stats.sem(indri_weight)\n",
    "\n",
    "# Standard deviation\n",
    "std = np.std(indri_weight)\n",
    "\n",
    "print(\"Mean Indri weight = %.3f\" %mu)\n",
    "print(\"Sample standard deviation = %.3f\" %std)\n",
    "print(\"Standard error is = %.3f\" %sem)"
   ]
  },
  {
   "cell_type": "markdown",
   "metadata": {},
   "source": [
    "<b>(c) Sample standard deviation</b> represents the dispersion of each member of the sample from its sample mean. It does not vary systematically with sample size.\n",
    "\n",
    "\n",
    "<b>The standard error</b> represents how far is the sample mean from the population mean. As the sample size increases, the standard error decreases so that the sample mean approaches the population mean."
   ]
  },
  {
   "cell_type": "markdown",
   "metadata": {},
   "source": [
    "<h6>(d) Confidence intervals of the determined mean</h6>"
   ]
  },
  {
   "cell_type": "code",
   "execution_count": 5,
   "metadata": {},
   "outputs": [
    {
     "name": "stdout",
     "output_type": "stream",
     "text": [
      "68.3 confidence interval of the mean = 5.211, 7.169 kgs\n",
      "\n",
      "95.4 confidence interval of the mean = 4.238, 8.142 kgs\n",
      "\n",
      "99.7 confidence interval of the mean = 3.286, 9.094 kgs\n"
     ]
    }
   ],
   "source": [
    "sem_68 = stats.norm.interval(0.683, loc = mu, scale = sem)\n",
    "sem_95 = stats.norm.interval(0.954, loc = mu, scale = sem)\n",
    "sem_99 = stats.norm.interval(0.997, loc = mu, scale = sem)\n",
    "\n",
    "print(\"68.3 confidence interval of the mean = %.3f, %.3f kgs\" %sem_68)\n",
    "print(\"\\n95.4 confidence interval of the mean = %.3f, %.3f kgs\" %sem_95)\n",
    "print(\"\\n99.7 confidence interval of the mean = %.3f, %.3f kgs\" %sem_99)"
   ]
  },
  {
   "cell_type": "markdown",
   "metadata": {},
   "source": [
    "<h6>(e) Confidence interval of the weights</h6>"
   ]
  },
  {
   "cell_type": "code",
   "execution_count": 6,
   "metadata": {},
   "outputs": [
    {
     "name": "stdout",
     "output_type": "stream",
     "text": [
      "68.3 confidence interval of the weights = 3.253, 9.127 kgs\n",
      "\n",
      "95.4 confidence interval of the weights = 0.333, 12.047 kgs\n",
      "\n",
      "99.7 confidence interval of the weights = -2.521, 14.901 kgs\n"
     ]
    }
   ],
   "source": [
    "std_68 = stats.norm.interval(0.683, loc = mu, scale = std)\n",
    "std_95 = stats.norm.interval(0.954, loc = mu, scale = std)\n",
    "std_99 = stats.norm.interval(0.997, loc = mu, scale = std)\n",
    "\n",
    "print(\"68.3 confidence interval of the weights = %.3f, %.3f kgs\" %std_68)\n",
    "print(\"\\n95.4 confidence interval of the weights = %.3f, %.3f kgs\" %std_95)\n",
    "print(\"\\n99.7 confidence interval of the weights = %.3f, %.3f kgs\" %std_99)"
   ]
  },
  {
   "cell_type": "markdown",
   "metadata": {},
   "source": [
    "<b>(f) The weights in part (e)</b> do not make sense as the 99.7 intrerval has negative weights, and 95.4 confidence interval has unrealistic Indri weights.   \n",
    "  \n",
    "The reason is that we have too few data and the histogram does not look like a normal distribution. The weight 13.22 is a clear outlier in the data set which skews our mean and standard deviation."
   ]
  },
  {
   "cell_type": "markdown",
   "metadata": {},
   "source": [
    "<h6>(g) Dixon's Q test</h6>"
   ]
  },
  {
   "cell_type": "code",
   "execution_count": 7,
   "metadata": {},
   "outputs": [
    {
     "name": "stdout",
     "output_type": "stream",
     "text": [
      "[  2.39   3.29   3.95   4.5    6.02   6.43   6.73   6.92   8.45  13.22]\n",
      "\n",
      "The Q-value of the datum weight 13.22 is 0.440\n",
      "\n",
      "Therefore, we are 90% confident that the weight 13.22 is an outlier.\n"
     ]
    }
   ],
   "source": [
    "# Weights in ascending order\n",
    "weights_asc = np.sort(indri_weight)\n",
    "print(weights_asc)\n",
    "\n",
    "Q_value = (13.22 - 8.45)/(13.22-2.39)\n",
    "print(\"\\nThe Q-value of the datum weight 13.22 is %.3f\" %Q_value)\n",
    "\n",
    "print(\"\\nTherefore, we are 90% confident that the weight 13.22 is an outlier.\")"
   ]
  },
  {
   "cell_type": "markdown",
   "metadata": {},
   "source": [
    "<h6>(h) Comparison with more data</h6>"
   ]
  },
  {
   "cell_type": "markdown",
   "metadata": {},
   "source": [
    "The new student's standard error measurement is significantly lower suggesting that her sample mean is closer to the population mean. The distribution looks more like a normal distribution.  \n",
    "  \n",
    "Using part (d) of our analysis, we can see that even the 99.7% confidence interval doesn't include the Indri weights less than 3.2 kgs, whereas the new student's data contains data with Indri weights less than 2 kgs.\n",
    "  \n",
    "  \n",
    "Since the new sample standard deviation is very low compared to our original dtandard deviation, the confidence of 13.22 kgs being an outlier <b>increases</b> significantly."
   ]
  },
  {
   "cell_type": "markdown",
   "metadata": {},
   "source": [
    "<h3>Problem 2: Huron river daily discharge</h3>"
   ]
  },
  {
   "cell_type": "code",
   "execution_count": 8,
   "metadata": {
    "collapsed": true
   },
   "outputs": [],
   "source": [
    "# Import data from csv\n",
    "discharge_data = pd.read_csv(\"HuronRiverUSGS_2010-2015.csv\", delimiter=',', \\\n",
    "                             encoding = 'utf-8-sig')\n",
    "discharge = discharge_data[\"discharge (million m3/day)\"]"
   ]
  },
  {
   "cell_type": "markdown",
   "metadata": {},
   "source": [
    "<h6>(a) Mean, standard dev, median, and 90% range of discharge</h6>"
   ]
  },
  {
   "cell_type": "code",
   "execution_count": 19,
   "metadata": {},
   "outputs": [
    {
     "name": "stdout",
     "output_type": "stream",
     "text": [
      "Mean Discharge                  = 0.968 Million m3/day\n",
      "Median Discharge                = 0.900 Million m3/day\n",
      "Standard deviation of Discharge = 0.493 Million m3/day\n",
      "90 percentile Discharge range   = 0.158 to 1.779 Million m3/day\n"
     ]
    }
   ],
   "source": [
    "mean_discharge = np.mean(discharge)\n",
    "median_discharge = np.median(discharge)\n",
    "std_discharge = np.std(discharge)\n",
    "range90_discharge = stats.norm.interval(0.90, loc = mean_discharge, \\\n",
    "                                        scale = std_discharge)\n",
    "\n",
    "print(\"Mean Discharge                  = %.3f Million m3/day\" %mean_discharge)\n",
    "print(\"Median Discharge                = %.3f Million m3/day\" %median_discharge)\n",
    "print(\"Standard deviation of Discharge = %.3f Million m3/day\" %std_discharge)\n",
    "print(\"90 percentile Discharge range   = %.3f to %.3f Million m3/day\"\\\n",
    "      %range90_discharge)"
   ]
  },
  {
   "cell_type": "markdown",
   "metadata": {},
   "source": [
    "<h6>(b) Error on the mean discharge</h6>"
   ]
  },
  {
   "cell_type": "code",
   "execution_count": 10,
   "metadata": {},
   "outputs": [
    {
     "name": "stdout",
     "output_type": "stream",
     "text": [
      "Standard error of mean discharge = 0.011\n"
     ]
    }
   ],
   "source": [
    "sem_discharge = stats.sem(discharge)\n",
    "\n",
    "print(\"Standard error of mean discharge = %.3f\" %sem_discharge)"
   ]
  },
  {
   "cell_type": "markdown",
   "metadata": {},
   "source": [
    "<h6>(c) Histogram of discharge </h6>"
   ]
  },
  {
   "cell_type": "code",
   "execution_count": 11,
   "metadata": {},
   "outputs": [
    {
     "data": {
      "image/png": "[encoded data removed]",
      "text/plain": [
       "<matplotlib.figure.Figure at 0x114bbb048>"
      ]
     },
     "metadata": {},
     "output_type": "display_data"
    }
   ],
   "source": [
    "# Initialize figure\n",
    "fig = plt.figure(figsize=(7,5))\n",
    "\n",
    "# Initialize subplot 1\n",
    "ax = fig.add_subplot(111)\n",
    "\n",
    "disc = discharge.sort_values()\n",
    "\n",
    "# Plot discharge histogram using seaborn\n",
    "sns.distplot(disc, bins=50, hist_kws=dict(edgecolor=\"k\",\\\n",
    "                                               linewidth=2), kde=False)\n",
    "ax.set_ylabel('Frequency')\n",
    "ax.set_title('Huron river daily discharge (number of bins=50)')\n",
    "\n",
    "plt.show()"
   ]
  },
  {
   "cell_type": "markdown",
   "metadata": {},
   "source": [
    "<h6>(d) Plot Gaussian pdf</h6>"
   ]
  },
  {
   "cell_type": "code",
   "execution_count": 12,
   "metadata": {},
   "outputs": [
    {
     "data": {
      "image/png": "[encoded data removed]",
      "text/plain": [
       "<matplotlib.figure.Figure at 0x118140748>"
      ]
     },
     "metadata": {},
     "output_type": "display_data"
    }
   ],
   "source": [
    "# Initialize plot\n",
    "fig = plt.figure(figsize=(7,5))\n",
    "\n",
    "# Initialize axes\n",
    "ax = fig.add_subplot(111)\n",
    "\n",
    "# Gaussian pdf\n",
    "x = discharge.sort_values()\n",
    "y = stats.norm.pdf(x, mean_discharge, std_discharge)\n",
    "\n",
    "ax.plot(x, y)\n",
    "ax.set_xlabel(\"Discharge (Million m3/day)\")\n",
    "ax.set_ylabel(\"Gaussian pdf of discharge (Million m3/day)\")\n",
    "ax.set_title(\"Gaussian pdf of Huron river daily discharge\")\n",
    "plt.show()"
   ]
  },
  {
   "cell_type": "markdown",
   "metadata": {},
   "source": [
    "The Gaussian pdf is comparable to the histogram in the previous part.  \n",
    "  \n",
    "Yes, a Gaussian pdf approximately desxribes the discharge of Huron river, as we can see from the similarity between the histogram and the pdf. Both the graphs have similar values for x and y axes, with y axis being normalized to 1 for the Gaussian pdf.  "
   ]
  },
  {
   "cell_type": "markdown",
   "metadata": {},
   "source": [
    "<h6>(e) Normal probability plot</h6>"
   ]
  },
  {
   "cell_type": "code",
   "execution_count": 13,
   "metadata": {},
   "outputs": [
    {
     "data": {
      "image/png": "[encoded data removed]",
      "text/plain": [
       "<matplotlib.figure.Figure at 0x118399c88>"
      ]
     },
     "metadata": {},
     "output_type": "display_data"
    }
   ],
   "source": [
    "# Initialize plot\n",
    "fig = plt.figure(figsize=(7,5))\n",
    "\n",
    "# Initialize axes\n",
    "ax = fig.add_subplot(111)\n",
    "\n",
    "# Gaussian pdf\n",
    "y = stats.norm.pdf(x, mean_discharge, std_discharge)\n",
    "\n",
    "stats.probplot(y, plot=plt)\n",
    "ax.set_xlabel(\"Discharge (Million m3/day)\")\n",
    "ax.set_ylabel(\"Probability\")\n",
    "ax.set_title(\"Probability plot of Huron discharge\")\n",
    "plt.show()"
   ]
  },
  {
   "cell_type": "markdown",
   "metadata": {},
   "source": [
    "No, the graph here tells us that the data does not follow a Gaussian pdf since it deviates significantly from a theoretical straight line."
   ]
  },
  {
   "cell_type": "markdown",
   "metadata": {},
   "source": [
    "<h6>(f) Histogram of log(discharge)</h6>"
   ]
  },
  {
   "cell_type": "code",
   "execution_count": 14,
   "metadata": {},
   "outputs": [
    {
     "data": {
      "image/png": "[encoded data removed]",
      "text/plain": [
       "<matplotlib.figure.Figure at 0x1181a0ba8>"
      ]
     },
     "metadata": {},
     "output_type": "display_data"
    }
   ],
   "source": [
    "# log of daily discharge data\n",
    "log_discharge = np.log10(discharge)\n",
    "\n",
    "# Initialize figure\n",
    "fig = plt.figure(figsize=(7,5))\n",
    "\n",
    "# Initialize subplot 1\n",
    "ax = fig.add_subplot(111)\n",
    "\n",
    "sort = log_discharge.sort_values()\n",
    "\n",
    "# Plot log10 discharge histogram\n",
    "sns.distplot(sort, bins=100, hist_kws=dict(edgecolor=\"k\",\\\n",
    "                                               linewidth=2), kde=False)\n",
    "ax.set_ylabel('Frequency')\n",
    "ax.set_xlabel('Log10 of discharge (dimensionless)')\n",
    "ax.set_title('Log10 of daily discharge')\n",
    "\n",
    "plt.show()"
   ]
  },
  {
   "cell_type": "markdown",
   "metadata": {},
   "source": [
    "Yes, the value with its log of -2.0 can be considered as an outlier."
   ]
  },
  {
   "cell_type": "markdown",
   "metadata": {},
   "source": [
    "<h6>(g) Mean, std, range of log10(discharge)</h6>"
   ]
  },
  {
   "cell_type": "code",
   "execution_count": 20,
   "metadata": {},
   "outputs": [
    {
     "name": "stdout",
     "output_type": "stream",
     "text": [
      "Mean log10 Discharge                  = -0.087\n",
      "Median log10 Discharge                = -0.046\n",
      "Standard deviation of log10 Discharge = 0.290\n",
      "90 percentile log10 Discharge range   = -0.564 to 0.389\n",
      "\n",
      "\n",
      "Antilog values:\n",
      "\n",
      "Mean Discharge                  = 0.818 million m3/day\n",
      "Median Discharge                = 0.900 million m3/day\n",
      "Standard deviation of Discharge = 1.949 million m3/day\n",
      "90 percentile Discharge range   = 0.273 to 2.451 million m3/day\n"
     ]
    }
   ],
   "source": [
    "# sort is the sorted log10 values\n",
    "mean_log10 = np.mean(sort)\n",
    "median_log10 = np.median(sort)\n",
    "std_log10 = np.std(sort)\n",
    "range90_log10 = stats.norm.interval(0.90, loc = mean_log10, scale = std_log10)\n",
    "\n",
    "print(\"Mean log10 Discharge                  = %.3f\" %mean_log10)\n",
    "print(\"Median log10 Discharge                = %.3f\" %median_log10)\n",
    "print(\"Standard deviation of log10 Discharge = %.3f\" %std_log10)\n",
    "print(\"90 percentile log10 Discharge range   = %.3f to %.3f\" %range90_log10)\n",
    "\n",
    "# Compute antilog\n",
    "print(\"\\n\\nAntilog values:\")\n",
    "print(\"\\nMean Discharge                  = %.3f million m3/day\"\\\n",
    "      %np.power(10,mean_log10))\n",
    "print(\"Median Discharge                = %.3f million m3/day\" \\\n",
    "      %np.power(10,median_log10))\n",
    "print(\"Standard deviation of Discharge = %.3f million m3/day\" \\\n",
    "      %np.power(10,std_log10))\n",
    "print(\"90 percentile Discharge range   = %.3f to %.3f million m3/day\" %\\\n",
    "      (np.power(10,range90_log10[0]),(np.power(10,range90_log10[1]))))\n"
   ]
  },
  {
   "cell_type": "markdown",
   "metadata": {},
   "source": [
    "The median matches to the values of part (a) since the middle value is constant irrespective of the scaling. But the mean has slightly reduced while the standard deviation has increased significantly. The 90 percentile range has also increased."
   ]
  },
  {
   "cell_type": "markdown",
   "metadata": {},
   "source": [
    "<h3>Problem 3: Meat consumption vs. GDP</h3>"
   ]
  },
  {
   "cell_type": "markdown",
   "metadata": {},
   "source": [
    "<h6>(a) Correlation coefficient: Japan</h6>"
   ]
  },
  {
   "cell_type": "code",
   "execution_count": 16,
   "metadata": {},
   "outputs": [
    {
     "name": "stdout",
     "output_type": "stream",
     "text": [
      "Correlation coefficient of Japan GDP vs meat consumption:\n",
      "\n",
      "[[ 1.          0.87321066]\n",
      " [ 0.87321066  1.        ]]\n"
     ]
    }
   ],
   "source": [
    "# Load data\n",
    "japan = pd.read_csv(\"Japan_GDP_Meat.csv\")\n",
    "\n",
    "japan_gdp = japan[\"per capita GDP (2015 US$)\"]\n",
    "japan_meat = japan[\"meat consumption (kg per capita)\"]\n",
    "\n",
    "# Correlation coefficient\n",
    "japan_corr = np.corrcoef(japan_gdp, japan_meat)\n",
    "\n",
    "print(\"Correlation coefficient of Japan GDP vs meat consumption:\\n\") \n",
    "print(japan_corr)"
   ]
  },
  {
   "cell_type": "markdown",
   "metadata": {},
   "source": [
    "The above results tells us that there is a very high positive correlation between Japan GDP and meat consumption, meaning the increase in GDP implies an increase in meat consumption and vice versa."
   ]
  },
  {
   "cell_type": "markdown",
   "metadata": {},
   "source": [
    "<h6>(b) Plot GDP vs meat consumption: Japan</h6>"
   ]
  },
  {
   "cell_type": "code",
   "execution_count": 17,
   "metadata": {},
   "outputs": [
    {
     "data": {
      "image/png": "[encoded data removed]",
      "text/plain": [
       "<matplotlib.figure.Figure at 0x1181a86a0>"
      ]
     },
     "metadata": {},
     "output_type": "display_data"
    }
   ],
   "source": [
    "# Initialize figure\n",
    "fig = plt.figure(figsize=(7,5))\n",
    "\n",
    "# Initialize subplot 1\n",
    "ax = fig.add_subplot(111)\n",
    "\n",
    "# Plot\n",
    "sns.regplot(japan_meat, japan_gdp)\n",
    "\n",
    "ax.set_ylabel('GDP (US $)')\n",
    "ax.set_xlabel('meat consumption (kg per capita)')\n",
    "ax.set_title('GDP vs. meat consumption: Japan')\n",
    "\n",
    "plt.show()"
   ]
  },
  {
   "cell_type": "markdown",
   "metadata": {},
   "source": [
    "<h6>(c) Correlation coefficients: USA and Argentina</h6>"
   ]
  },
  {
   "cell_type": "code",
   "execution_count": 18,
   "metadata": {},
   "outputs": [
    {
     "name": "stdout",
     "output_type": "stream",
     "text": [
      "Correlation coefficient of Argentina GDP vs meat consumption:\n",
      "\n",
      "[[ 1.         -0.68366985]\n",
      " [-0.68366985  1.        ]]\n",
      "\n",
      "Correlation coefficient of USA GDP vs meat consumption:\n",
      "\n",
      "[[ 1.         -0.88057332]\n",
      " [-0.88057332  1.        ]]\n"
     ]
    }
   ],
   "source": [
    "argentina = pd.read_csv(\"Argentina_GDP_Meat.csv\")\n",
    "usa = pd.read_csv(\"USA_GDP_Meat.csv\")\n",
    "\n",
    "arg_gdp = argentina[\"per capita GDP (2015 US$)\"]\n",
    "arg_meat = argentina[\"meat consumption (kg per capita)\"]\n",
    "\n",
    "usa_gdp = usa[\"per capita GDP (2015 US$)\"]\n",
    "usa_meat = usa[\"meat consumption (kg per capita)\"]\n",
    "\n",
    "# Correlation coefficient\n",
    "arg_corr = np.corrcoef(arg_gdp, arg_meat)\n",
    "usa_corr = np.corrcoef(usa_gdp, usa_meat)\n",
    "\n",
    "print(\"Correlation coefficient of Argentina GDP vs meat consumption:\\n\") \n",
    "print(arg_corr)\n",
    "\n",
    "print(\"\\nCorrelation coefficient of USA GDP vs meat consumption:\\n\") \n",
    "print(usa_corr)"
   ]
  },
  {
   "cell_type": "markdown",
   "metadata": {},
   "source": [
    "USA has a strong negative correlation of GDP with meat consumption while Argentina has a weak negative correlation. "
   ]
  },
  {
   "cell_type": "markdown",
   "metadata": {},
   "source": [
    "<b>(d) Based on the three countries,</b> there is no robust correlation between GDP and meat consumption since each country has a different and contrasting correlation."
   ]
  },
  {
   "cell_type": "code",
   "execution_count": null,
   "metadata": {
    "collapsed": true
   },
   "outputs": [],
   "source": []
  }
 ],
 "metadata": {
  "kernelspec": {
   "display_name": "Python 3",
   "language": "python",
   "name": "python3"
  },
  "language_info": {
   "codemirror_mode": {
    "name": "ipython",
    "version": 3
   },
   "file_extension": ".py",
   "mimetype": "text/x-python",
   "name": "python",
   "nbconvert_exporter": "python",
   "pygments_lexer": "ipython3",
   "version": "3.6.2"
  }
 },
 "nbformat": 4,
 "nbformat_minor": 2
}
